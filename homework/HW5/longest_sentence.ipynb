{
 "cells": [
  {
   "cell_type": "code",
   "execution_count": 1,
   "metadata": {},
   "outputs": [],
   "source": [
    "class LinkedList:\n",
    "\n",
    "    def __init__(self, head, tail):\n",
    "        assert isinstance(tail, LinkedList) or isinstance(tail, Nil), TypeError(\n",
    "            'tail should either be a LinkedList or a Nil')\n",
    "        self._head, self._tail = head, tail\n",
    "\n",
    "    @property\n",
    "    def head(self):\n",
    "        return self._head\n",
    "\n",
    "    @property\n",
    "    def tail(self):\n",
    "        return self._tail\n",
    "\n",
    "    def __str__(self):\n",
    "        return str(self._head) + ' -> ' + str(self._tail)\n",
    "\n",
    "    def __repr__(self):\n",
    "        return f'LinkedList({repr(self._head)}, {repr(self._tail)})'\n",
    "\n",
    "    def __len__(self):\n",
    "        return 1 + len(self._tail)\n",
    "\n",
    "    def __getitem__(self, i):\n",
    "        return self._head if i == 0 else self._tail[i-1]\n",
    "\n",
    "    def prepend(self, val):\n",
    "        return  LinkedList(val,self)\n",
    "\n",
    "    def append(self, val):\n",
    "        return  LinkedList(self._head, self._tail.append(val)) if self._tail else self.__init__(self._head, Nil.append(val))\n",
    "\n",
    "    def for_each(self, fun):\n",
    "        return  LinkedList(fun(self._head), self._tail.for_each(fun))\n",
    "\n",
    "    def summation(self):\n",
    "        return self._head + self._tail.summation() if self._tail else self._head\n",
    "\n",
    "    def minimum(self):\n",
    "        def smaller(a, b):\n",
    "            return a if a < b else b\n",
    "        return smaller(self._head, self._tail.minimum()) if self._tail else self._head\n",
    "\n",
    "    def reduce_right(self, fun):\n",
    "        return fun(self._head, self._tail.reduce_right(fun)) if self._tail else self._head\n",
    "        \n",
    "\n",
    "class Nil():\n",
    "\n",
    "    def __str__(self): \n",
    "        return 'Nil'\n",
    "\n",
    "    def __repr__(self):\n",
    "        return 'Nil()'\n",
    "\n",
    "    def __len__(self):\n",
    "        return 0\n",
    "\n",
    "    def __getitem__(self, i):\n",
    "        raise IndexError('index out of range')\n",
    "\n",
    "    def __bool__(self): \n",
    "        return False\n",
    "\n",
    "    def prepend(self, val): \n",
    "        return LinkedList(val, Nil())\n",
    "\n",
    "    def append(self, val):  \n",
    "        return LinkedList(val, Nil())\n",
    "\n",
    "    def for_each(self, fun):\n",
    "        return Nil()\n",
    "    \n",
    "def get_list_of_sentences(chapter1='swansway-chapter1.txt'):\n",
    "    def to_sentences(p):\n",
    "            for delimiter in '.?!': p = p.replace(delimiter, '|')\n",
    "            return [s.strip('\\\" ') for s in p.split('|')]\n",
    "    with open(chapter1, 'r', encoding='UTF-8') as f:\n",
    "        paragraphs = f.readlines()\n",
    "\n",
    "    sentences = [s for p in paragraphs for s in to_sentences(p) if len(s) > 1]\n",
    "    list_of_sentences = Nil()\n",
    "    for s in sentences[::-1]:\n",
    "        list_of_sentences = list_of_sentences.prepend(s)\n",
    "\n",
    "    return list_of_sentences\n",
    "\n",
    "\n",
    "\n",
    "def longest_sentence():\n",
    "    def wordscount(mystr):\n",
    "        return len(mystr.split()) \n",
    "        ##count words\n",
    "    def larger(a, b): # our \"combine\" function\n",
    "        return a if a > b else b\n",
    "    list_of_sentences = get_list_of_sentences()\n",
    "    list_of_lenghts=list_of_sentences.for_each(wordscount)\n",
    "    return list_of_lenghts.reduce_right(larger)"
   ]
  },
  {
   "cell_type": "code",
   "execution_count": 2,
   "metadata": {},
   "outputs": [
    {
     "data": {
      "text/plain": [
       "481"
      ]
     },
     "execution_count": 2,
     "metadata": {},
     "output_type": "execute_result"
    }
   ],
   "source": [
    "longest_sentence()"
   ]
  },
  {
   "cell_type": "code",
   "execution_count": 3,
   "metadata": {},
   "outputs": [
    {
     "name": "stdout",
     "output_type": "stream",
     "text": [
      "The original string is : m'éveillait; je voulais\n",
      "The number of words in string are : 3\n"
     ]
    }
   ],
   "source": [
    "test_string = \"m'éveillait; je voulais\"\n",
    "  \n",
    "# printing original string \n",
    "print (\"The original string is : \" +  test_string) \n",
    "  \n",
    "# using split() \n",
    "# to count words in string \n",
    "res = len(test_string.split()) \n",
    "  \n",
    "# printing result \n",
    "print (\"The number of words in string are : \" +  str(res)) "
   ]
  },
  {
   "cell_type": "code",
   "execution_count": null,
   "metadata": {},
   "outputs": [],
   "source": []
  }
 ],
 "metadata": {
  "kernelspec": {
   "display_name": "Python 3",
   "language": "python",
   "name": "python3"
  },
  "language_info": {
   "codemirror_mode": {
    "name": "ipython",
    "version": 3
   },
   "file_extension": ".py",
   "mimetype": "text/x-python",
   "name": "python",
   "nbconvert_exporter": "python",
   "pygments_lexer": "ipython3",
   "version": "3.8.3"
  }
 },
 "nbformat": 4,
 "nbformat_minor": 4
}
