{
 "cells": [
  {
   "cell_type": "code",
   "execution_count": 52,
   "metadata": {},
   "outputs": [],
   "source": [
    "class BSTNode:\n",
    "\n",
    "    def __init__(self, key, val):\n",
    "        self.key, self.val = key, val\n",
    "        self.left = None\n",
    "        self.right = None\n",
    "        self.size = 1\n",
    "\n",
    "    def __str__(self):\n",
    "        return f'BSTNode({self.key}, {self.val})' + \\\n",
    "               '\\n|\\n|-(L)->' + '\\n|      '.join(str(self.left ).split('\\n')) + \\\n",
    "               '\\n|\\n|-(R)->' + '\\n|      '.join(str(self.right).split('\\n'))\n",
    "\n",
    "\n",
    "class BSTTable:\n",
    "    def __init__(self):\n",
    "        self._root = None\n",
    "\n",
    "    def __str__(self):\n",
    "        return str(self._root)\n",
    "\n",
    "    def __len__(self):\n",
    "        return self._size(self._root)\n",
    "\n",
    "    def put(self, key, val):\n",
    "        self._root = self._put(self._root, key, val)\n",
    "\n",
    "    def get(self, key):\n",
    "        return self._get(self._root, key)\n",
    "\n",
    "    def _put(self, node, key, val):\n",
    "        if node:\n",
    "            if key<node.key:\n",
    "                node.left=self._put(node.left,key,val)\n",
    "                node.size+=1\n",
    "            elif key>node.key:\n",
    "                node.right=self._put(node.right,key,val)\n",
    "                node.size+=1\n",
    "            else:  ##key==node.key\n",
    "                node.val=val\n",
    "            return node\n",
    "        else:\n",
    "            return BSTNode(key,val)\n",
    "\n",
    "    def _get(self, node, key):\n",
    "        #print(node)\n",
    "        if node:\n",
    "            #print('here')\n",
    "            if key<node.key:\n",
    "                #print('left')\n",
    "                return self._get(node.left,key)\n",
    "            elif key>node.key:\n",
    "                #print('right')\n",
    "                return self._get(node.right,key)\n",
    "            else:  ##key==node.key\n",
    "                return node.val           \n",
    "        else:\n",
    "            raise KeyError('No such node is found')\n",
    "            return None\n",
    "\n",
    "    @staticmethod\n",
    "    def _size(node):\n",
    "        return node.size if node else 0"
   ]
  },
  {
   "cell_type": "code",
   "execution_count": 53,
   "metadata": {},
   "outputs": [
    {
     "data": {
      "text/plain": [
       "'Cupid'"
      ]
     },
     "execution_count": 53,
     "metadata": {},
     "output_type": "execute_result"
    }
   ],
   "source": [
    "greektoroman = BSTTable()\n",
    "greektoroman.put('Athena',    'Minerva')\n",
    "#print(greektoroman)\n",
    "#print(greektoroman._size(greektoroman._root))\n",
    "greektoroman.put('Eros',      'Cupid')\n",
    "#print(greektoroman)\n",
    "#print(greektoroman._size(greektoroman._root.right))\n",
    "greektoroman.put('Aphrodite', 'Venus')\n",
    "#print(greektoroman)\n",
    "#print(greektoroman._size(greektoroman._root))\n",
    "greektoroman.get('Eros')"
   ]
  },
  {
   "cell_type": "code",
   "execution_count": null,
   "metadata": {},
   "outputs": [],
   "source": []
  },
  {
   "cell_type": "code",
   "execution_count": null,
   "metadata": {},
   "outputs": [],
   "source": []
  }
 ],
 "metadata": {
  "kernelspec": {
   "display_name": "Python 3",
   "language": "python",
   "name": "python3"
  },
  "language_info": {
   "codemirror_mode": {
    "name": "ipython",
    "version": 3
   },
   "file_extension": ".py",
   "mimetype": "text/x-python",
   "name": "python",
   "nbconvert_exporter": "python",
   "pygments_lexer": "ipython3",
   "version": "3.8.3"
  }
 },
 "nbformat": 4,
 "nbformat_minor": 4
}
